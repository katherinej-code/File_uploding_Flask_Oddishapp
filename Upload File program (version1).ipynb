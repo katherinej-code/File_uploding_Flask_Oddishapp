{
 "cells": [
  {
   "cell_type": "code",
   "execution_count": 1,
   "metadata": {},
   "outputs": [],
   "source": [
    "from tkinter import *\n",
    "from tkinter.ttk import *\n",
    "from tkinter.filedialog import askopenfile\n",
    "import time\n",
    "\n",
    "ws = Tk()\n",
    "ws.title('PythonGuides')\n",
    "ws.geometry('400x200')\n",
    "\n",
    "\n",
    "def open_file():\n",
    "    file_path = askopenfile(mode='r', filetypes=[('Image Files', '*jpeg')])\n",
    "    if file_path is not None:\n",
    "        pass\n",
    "\n",
    "\n",
    "def uploadFiles():\n",
    "    pb1 = Progressbar(\n",
    "        ws,\n",
    "        orient=HORIZONTAL,\n",
    "        length=300,\n",
    "        mode='determinate'\n",
    "    )\n",
    "    pb1.grid(row=4, columnspan=3, pady=20)\n",
    "    for i in range(5):\n",
    "        ws.update_idletasks()\n",
    "        pb1['value'] += 20\n",
    "        time.sleep(1)\n",
    "    pb1.destroy()\n",
    "    Label(ws, text='File Uploaded Successfully!', foreground='green').grid(row=4, columnspan=3, pady=10)\n",
    "\n",
    "\n",
    "adhar = Label(\n",
    "    ws,\n",
    "    text='Upload Government id in jpg format '\n",
    ")\n",
    "adhar.grid(row=0, column=0, padx=10)\n",
    "\n",
    "adharbtn = Button(\n",
    "    ws,\n",
    "    text='Choose File',\n",
    "    command=lambda: open_file()\n",
    ")\n",
    "adharbtn.grid(row=0, column=1)\n",
    "\n",
    "dl = Label(\n",
    "    ws,\n",
    ")\n",
    "dl.grid(row=1, column=0, padx=10)\n",
    "\n",
    "upld = Button(\n",
    "    ws,\n",
    "    text='Upload Files',\n",
    "    command=uploadFiles\n",
    ")\n",
    "upld.grid(row=3, columnspan=3, pady=10)\n",
    "\n",
    "ws.mainloop()"
   ]
  },
  {
   "cell_type": "code",
   "execution_count": null,
   "metadata": {},
   "outputs": [],
   "source": []
  }
 ],
 "metadata": {
  "kernelspec": {
   "display_name": "Python 3",
   "language": "python",
   "name": "python3"
  },
  "language_info": {
   "codemirror_mode": {
    "name": "ipython",
    "version": 3
   },
   "file_extension": ".py",
   "mimetype": "text/x-python",
   "name": "python",
   "nbconvert_exporter": "python",
   "pygments_lexer": "ipython3",
   "version": "3.8.5"
  }
 },
 "nbformat": 4,
 "nbformat_minor": 4
}
